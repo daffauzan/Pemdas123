{
 "cells": [
  {
   "cell_type": "code",
   "execution_count": 27,
   "metadata": {},
   "outputs": [],
   "source": [
    "data_panen = {\n",
    "    'lokasi1': {\n",
    "        'nama_lokasi': 'Kebun A',\n",
    "        'hasil_panen': {\n",
    "            'padi': 1200,\n",
    "            'jagung': 800,\n",
    "            'kedelai': 500\n",
    "        }\n",
    "    },\n",
    "    'lokasi2':{\n",
    "        'nama_lokasi': 'Kebun B',\n",
    "        'hasil_panen': {\n",
    "            'padi': 1500,\n",
    "            'jagung': 900,\n",
    "            'kedelai': 450\n",
    "        }\n",
    "    },\n",
    "    'lokasi3': {\n",
    "        'nama_lokasi': 'Kebun C',\n",
    "        'hasil_panen':{\n",
    "            'padi': 1100,\n",
    "            'jagung': 750,\n",
    "            'kedelai': 600\n",
    "        }\n",
    "    },\n",
    "    'lokasi4': {\n",
    "        'nama_lokasi': 'Kebun D',\n",
    "        'hasil_panen': {\n",
    "            'padi': 1300,\n",
    "            'jagung': 850,\n",
    "            'kedelai': 550\n",
    "        }\n",
    "    },\n",
    "    'lokasi5':{\n",
    "        'nama_lokasi': 'Kebun E',\n",
    "        'hasil_panen':{\n",
    "            'padi': 1400,\n",
    "            'jagung': 950,\n",
    "            'kedelai': 480\n",
    "        }\n",
    "    }\n",
    "\n",
    "}"
   ]
  },
  {
   "cell_type": "code",
   "execution_count": 28,
   "metadata": {},
   "outputs": [
    {
     "data": {
      "text/plain": [
       "{'lokasi1': {'nama_lokasi': 'Kebun A',\n",
       "  'hasil_panen': {'padi': 1200, 'jagung': 800, 'kedelai': 500}},\n",
       " 'lokasi2': {'nama_lokasi': 'Kebun B',\n",
       "  'hasil_panen': {'padi': 1500, 'jagung': 900, 'kedelai': 450}},\n",
       " 'lokasi3': {'nama_lokasi': 'Kebun C',\n",
       "  'hasil_panen': {'padi': 1100, 'jagung': 750, 'kedelai': 600}},\n",
       " 'lokasi4': {'nama_lokasi': 'Kebun D',\n",
       "  'hasil_panen': {'padi': 1300, 'jagung': 850, 'kedelai': 550}},\n",
       " 'lokasi5': {'nama_lokasi': 'Kebun E',\n",
       "  'hasil_panen': {'padi': 1400, 'jagung': 950, 'kedelai': 480}}}"
      ]
     },
     "execution_count": 28,
     "metadata": {},
     "output_type": "execute_result"
    }
   ],
   "source": [
    "# Menampilkan seluruh data panen\n",
    "data_panen"
   ]
  },
  {
   "cell_type": "code",
   "execution_count": 29,
   "metadata": {},
   "outputs": [
    {
     "name": "stdout",
     "output_type": "stream",
     "text": [
      "Hasil Panen Jagung pada lokasi 2 : 900\n"
     ]
    }
   ],
   "source": [
    "# Menampilkan data panen jagung di lokasi 2\n",
    "data_jagung_loc2 = data_panen['lokasi2']['hasil_panen']['jagung']\n",
    "print(f\"Hasil Panen Jagung pada lokasi 2 : {data_jagung_loc2}\")"
   ]
  },
  {
   "cell_type": "code",
   "execution_count": 30,
   "metadata": {},
   "outputs": [
    {
     "name": "stdout",
     "output_type": "stream",
     "text": [
      "Nama Lokasi 3: Kebun C\n"
     ]
    }
   ],
   "source": [
    "data_nama_lokasi3 = data_panen['lokasi3']['nama_lokasi']\n",
    "print(f\"Nama Lokasi 3: {data_nama_lokasi3}\")"
   ]
  },
  {
   "cell_type": "code",
   "execution_count": 31,
   "metadata": {},
   "outputs": [
    {
     "name": "stdout",
     "output_type": "stream",
     "text": [
      "Total hasil panen padi pada lokasi Kebun A adalah: 1200\n",
      "Total hasil panen padi pada lokasi Kebun B adalah: 2700\n",
      "Total hasil panen padi pada lokasi Kebun C adalah: 3800\n",
      "Total hasil panen padi pada lokasi Kebun D adalah: 5100\n",
      "Total hasil panen padi pada lokasi Kebun E adalah: 6500\n",
      "\n",
      "Total hasil panen kedelai pada lokasi Kebun A adalah: 500\n",
      "Total hasil panen kedelai pada lokasi Kebun B adalah: 950\n",
      "Total hasil panen kedelai pada lokasi Kebun C adalah: 1550\n",
      "Total hasil panen kedelai pada lokasi Kebun D adalah: 2100\n",
      "Total hasil panen kedelai pada lokasi Kebun E adalah: 2580\n"
     ]
    }
   ],
   "source": [
    "# Menghitung jumlah panen padi dan kedelai dari setiap lokasi\n",
    "total_panen_padi = 0\n",
    "for lokasi_id, lokasi_data in data_panen.items():\n",
    "    total_panen_padi += lokasi_data['hasil_panen']['padi']\n",
    "    print(f\"Total hasil panen padi pada lokasi {lokasi_data['nama_lokasi']} adalah: {total_panen_padi}\")\n",
    "print()\n",
    "\n",
    "total_panen_kedelai = 0\n",
    "for lokasi_id, lokasi_data in data_panen.items():\n",
    "    total_panen_kedelai += lokasi_data['hasil_panen']['kedelai']\n",
    "    print(f\"Total hasil panen kedelai pada lokasi {lokasi_data['nama_lokasi']} adalah: {total_panen_kedelai}\")"
   ]
  },
  {
   "cell_type": "code",
   "execution_count": 32,
   "metadata": {},
   "outputs": [
    {
     "name": "stdout",
     "output_type": "stream",
     "text": [
      "Total panen padi tiap lokasi: {'Kebun A': 1200, 'Kebun B': 1500, 'Kebun C': 1100, 'Kebun D': 1300, 'Kebun E': 1400}\n",
      "Total panen kedelai tiap lokasi{'Kebun A': 500, 'Kebun B': 450, 'Kebun C': 600, 'Kebun D': 550, 'Kebun E': 480}\n",
      "Total panen jagung tiap lokasi: {'Kebun A': 800, 'Kebun B': 900, 'Kebun C': 750, 'Kebun D': 850, 'Kebun E': 950}\n"
     ]
    }
   ],
   "source": [
    "total_panen_padi = 0\n",
    "total_panen_kedelai = 0\n",
    "total_panen_jagung = 0\n",
    "\n",
    "panen_padi = {}\n",
    "panen_kedelai = {}\n",
    "panen_jagung = {}\n",
    "\n",
    "for lokasi_id, lokasi_data in data_panen.items():\n",
    "    total_panen_padi += lokasi_data['hasil_panen']['padi']\n",
    "    panen_padi[lokasi_data['nama_lokasi']] = lokasi_data['hasil_panen']['padi']\n",
    "\n",
    "    total_panen_kedelai += lokasi_data['hasil_panen']['kedelai']\n",
    "    panen_kedelai[lokasi_data['nama_lokasi']] = lokasi_data['hasil_panen']['kedelai']\n",
    "\n",
    "    total_panen_jagung += lokasi_data['hasil_panen']['jagung']\n",
    "    panen_jagung[lokasi_data['nama_lokasi']] = lokasi_data['hasil_panen']['jagung']\n",
    "\n",
    "print(f'Total panen padi tiap lokasi: {panen_padi}')\n",
    "print(f'Total panen kedelai tiap lokasi{panen_kedelai}')\n",
    "print(f'Total panen jagung tiap lokasi: {panen_jagung}')"
   ]
  },
  {
   "cell_type": "code",
   "execution_count": 33,
   "metadata": {},
   "outputs": [
    {
     "name": "stdout",
     "output_type": "stream",
     "text": [
      "Kondisi lokasi Kebun A baik.\n",
      "Kondisi lokasi Kebun B memerlukan perhatian khusus.\n",
      "Kondisi lokasi Kebun C baik.\n",
      "Kondisi lokasi Kebun D memerlukan perhatian khusus.\n",
      "Kondisi lokasi Kebun E memerlukan perhatian khusus.\n"
     ]
    }
   ],
   "source": [
    "for lokasi_id, lokasi_data in data_panen.items():\n",
    "    nama_lokasi = lokasi_data['nama_lokasi']\n",
    "    panen_padi = lokasi_data['hasil_panen']['padi']\n",
    "    panen_jagung = lokasi_data['hasil_panen']['jagung']\n",
    "    \n",
    "    if panen_padi > 1300 or panen_jagung > 800:\n",
    "        print(f\"Kondisi lokasi {nama_lokasi} memerlukan perhatian khusus.\")\n",
    "    else:\n",
    "        print(f\"Kondisi lokasi {nama_lokasi} baik.\")"
   ]
  }
 ],
 "metadata": {
  "kernelspec": {
   "display_name": "Python 3",
   "language": "python",
   "name": "python3"
  },
  "language_info": {
   "codemirror_mode": {
    "name": "ipython",
    "version": 3
   },
   "file_extension": ".py",
   "mimetype": "text/x-python",
   "name": "python",
   "nbconvert_exporter": "python",
   "pygments_lexer": "ipython3",
   "version": "3.11.9"
  }
 },
 "nbformat": 4,
 "nbformat_minor": 2
}
